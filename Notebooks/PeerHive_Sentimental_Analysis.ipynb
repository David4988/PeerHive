{
 "cells": [
  {
   "cell_type": "markdown",
   "metadata": {
    "colab_type": "text",
    "id": "view-in-github"
   },
   "source": [
    "<a href=\"https://colab.research.google.com/github/David4988/UniHive/blob/main/PeerHive_Sentimental_Analysis.ipynb\" target=\"_parent\"><img src=\"https://colab.research.google.com/assets/colab-badge.svg\" alt=\"Open In Colab\"/></a>"
   ]
  },
  {
   "cell_type": "markdown",
   "metadata": {
    "id": "UIf7osWlaYv7"
   },
   "source": [
    "# **Sentimental Analysis for PeerHive**"
   ]
  },
  {
   "cell_type": "markdown",
   "metadata": {
    "id": "SLEoWULVanld"
   },
   "source": [
    "## **1. Installing dependancies and Importing necessary packages**"
   ]
  },
  {
   "cell_type": "code",
   "execution_count": 1,
   "metadata": {
    "colab": {
     "base_uri": "https://localhost:8080/"
    },
    "id": "7QQNfBKEJKDN",
    "outputId": "bcdc38eb-9604-45ca-b99f-ebcbf78f3dce"
   },
   "outputs": [
    {
     "name": "stdout",
     "output_type": "stream",
     "text": [
      "Collecting transformers\n",
      "  Obtaining dependency information for transformers from https://files.pythonhosted.org/packages/96/88/beb33a79a382fcd2aed0be5222bdc47f41e4bfe7aaa90ae1374f1d8ea2af/transformers-4.53.2-py3-none-any.whl.metadata\n",
      "  Using cached transformers-4.53.2-py3-none-any.whl.metadata (40 kB)\n",
      "Requirement already satisfied: torch in c:\\users\\hp\\projects\\peer_hive\\venv\\lib\\site-packages (2.7.1)\n",
      "Collecting pandas\n",
      "  Obtaining dependency information for pandas from https://files.pythonhosted.org/packages/c8/7b/bdcb1ed8fccb63d04bdb7635161d0ec26596d92c9d7a6cce964e7876b6c1/pandas-2.3.1-cp311-cp311-win_amd64.whl.metadata\n",
      "  Using cached pandas-2.3.1-cp311-cp311-win_amd64.whl.metadata (19 kB)\n",
      "Requirement already satisfied: filelock in c:\\users\\hp\\projects\\peer_hive\\venv\\lib\\site-packages (from transformers) (3.18.0)\n",
      "Collecting huggingface-hub<1.0,>=0.30.0 (from transformers)\n",
      "  Obtaining dependency information for huggingface-hub<1.0,>=0.30.0 from https://files.pythonhosted.org/packages/46/7b/98daa50a2db034cab6cd23a3de04fa2358cb691593d28e9130203eb7a805/huggingface_hub-0.33.4-py3-none-any.whl.metadata\n",
      "  Using cached huggingface_hub-0.33.4-py3-none-any.whl.metadata (14 kB)\n",
      "Requirement already satisfied: numpy>=1.17 in c:\\users\\hp\\projects\\peer_hive\\venv\\lib\\site-packages (from transformers) (2.3.1)\n",
      "Requirement already satisfied: packaging>=20.0 in c:\\users\\hp\\projects\\peer_hive\\venv\\lib\\site-packages (from transformers) (25.0)\n",
      "Requirement already satisfied: pyyaml>=5.1 in c:\\users\\hp\\projects\\peer_hive\\venv\\lib\\site-packages (from transformers) (6.0.2)\n",
      "Requirement already satisfied: regex!=2019.12.17 in c:\\users\\hp\\projects\\peer_hive\\venv\\lib\\site-packages (from transformers) (2024.11.6)\n",
      "Requirement already satisfied: requests in c:\\users\\hp\\projects\\peer_hive\\venv\\lib\\site-packages (from transformers) (2.32.4)\n",
      "Collecting tokenizers<0.22,>=0.21 (from transformers)\n",
      "  Obtaining dependency information for tokenizers<0.22,>=0.21 from https://files.pythonhosted.org/packages/13/c3/cc2755ee10be859c4338c962a35b9a663788c0c0b50c0bdd8078fb6870cf/tokenizers-0.21.2-cp39-abi3-win_amd64.whl.metadata\n",
      "  Using cached tokenizers-0.21.2-cp39-abi3-win_amd64.whl.metadata (6.9 kB)\n",
      "Requirement already satisfied: safetensors>=0.4.3 in c:\\users\\hp\\projects\\peer_hive\\venv\\lib\\site-packages (from transformers) (0.5.3)\n",
      "Requirement already satisfied: tqdm>=4.27 in c:\\users\\hp\\projects\\peer_hive\\venv\\lib\\site-packages (from transformers) (4.67.1)\n",
      "Requirement already satisfied: typing-extensions>=4.10.0 in c:\\users\\hp\\projects\\peer_hive\\venv\\lib\\site-packages (from torch) (4.14.1)\n",
      "Requirement already satisfied: sympy>=1.13.3 in c:\\users\\hp\\projects\\peer_hive\\venv\\lib\\site-packages (from torch) (1.14.0)\n",
      "Requirement already satisfied: networkx in c:\\users\\hp\\projects\\peer_hive\\venv\\lib\\site-packages (from torch) (3.5)\n",
      "Requirement already satisfied: jinja2 in c:\\users\\hp\\projects\\peer_hive\\venv\\lib\\site-packages (from torch) (3.1.6)\n",
      "Requirement already satisfied: fsspec in c:\\users\\hp\\projects\\peer_hive\\venv\\lib\\site-packages (from torch) (2025.5.1)\n",
      "Requirement already satisfied: python-dateutil>=2.8.2 in c:\\users\\hp\\projects\\peer_hive\\venv\\lib\\site-packages (from pandas) (2.9.0.post0)\n",
      "Requirement already satisfied: pytz>=2020.1 in c:\\users\\hp\\projects\\peer_hive\\venv\\lib\\site-packages (from pandas) (2025.2)\n",
      "Requirement already satisfied: tzdata>=2022.7 in c:\\users\\hp\\projects\\peer_hive\\venv\\lib\\site-packages (from pandas) (2025.2)\n",
      "Requirement already satisfied: six>=1.5 in c:\\users\\hp\\projects\\peer_hive\\venv\\lib\\site-packages (from python-dateutil>=2.8.2->pandas) (1.17.0)\n",
      "Requirement already satisfied: mpmath<1.4,>=1.1.0 in c:\\users\\hp\\projects\\peer_hive\\venv\\lib\\site-packages (from sympy>=1.13.3->torch) (1.3.0)\n",
      "Requirement already satisfied: colorama in c:\\users\\hp\\projects\\peer_hive\\venv\\lib\\site-packages (from tqdm>=4.27->transformers) (0.4.6)\n",
      "Requirement already satisfied: MarkupSafe>=2.0 in c:\\users\\hp\\projects\\peer_hive\\venv\\lib\\site-packages (from jinja2->torch) (3.0.2)\n",
      "Requirement already satisfied: charset_normalizer<4,>=2 in c:\\users\\hp\\projects\\peer_hive\\venv\\lib\\site-packages (from requests->transformers) (3.4.2)\n",
      "Requirement already satisfied: idna<4,>=2.5 in c:\\users\\hp\\projects\\peer_hive\\venv\\lib\\site-packages (from requests->transformers) (3.10)\n",
      "Requirement already satisfied: urllib3<3,>=1.21.1 in c:\\users\\hp\\projects\\peer_hive\\venv\\lib\\site-packages (from requests->transformers) (2.5.0)\n",
      "Requirement already satisfied: certifi>=2017.4.17 in c:\\users\\hp\\projects\\peer_hive\\venv\\lib\\site-packages (from requests->transformers) (2025.7.14)\n",
      "Using cached transformers-4.53.2-py3-none-any.whl (10.8 MB)\n",
      "Using cached pandas-2.3.1-cp311-cp311-win_amd64.whl (11.3 MB)\n",
      "Using cached huggingface_hub-0.33.4-py3-none-any.whl (515 kB)\n",
      "Using cached tokenizers-0.21.2-cp39-abi3-win_amd64.whl (2.5 MB)\n",
      "Installing collected packages: pandas, huggingface-hub, tokenizers, transformers\n",
      "Successfully installed huggingface-hub-0.33.4 pandas-2.3.1 tokenizers-0.21.2 transformers-4.53.2\n"
     ]
    },
    {
     "name": "stderr",
     "output_type": "stream",
     "text": [
      "\n",
      "[notice] A new release of pip is available: 23.2.1 -> 25.1.1\n",
      "[notice] To update, run: python.exe -m pip install --upgrade pip\n"
     ]
    }
   ],
   "source": [
    "!pip install transformers torch pandas"
   ]
  },
  {
   "cell_type": "code",
   "execution_count": 4,
   "metadata": {},
   "outputs": [
    {
     "name": "stdout",
     "output_type": "stream",
     "text": [
      "Collecting matplotlib\n",
      "  Obtaining dependency information for matplotlib from https://files.pythonhosted.org/packages/a6/da/948a017c3ea13fd4a97afad5fdebe2f5bbc4d28c0654510ce6fd6b06b7bd/matplotlib-3.10.3-cp311-cp311-win_amd64.whl.metadata\n",
      "  Using cached matplotlib-3.10.3-cp311-cp311-win_amd64.whl.metadata (11 kB)\n",
      "Collecting contourpy>=1.0.1 (from matplotlib)\n",
      "  Obtaining dependency information for contourpy>=1.0.1 from https://files.pythonhosted.org/packages/5e/fe/4029038b4e1c4485cef18e480b0e2cd2d755448bb071eb9977caac80b77b/contourpy-1.3.2-cp311-cp311-win_amd64.whl.metadata\n",
      "  Using cached contourpy-1.3.2-cp311-cp311-win_amd64.whl.metadata (5.5 kB)\n",
      "Requirement already satisfied: cycler>=0.10 in c:\\users\\hp\\projects\\peer_hive\\venv\\lib\\site-packages (from matplotlib) (0.12.1)\n",
      "Requirement already satisfied: fonttools>=4.22.0 in c:\\users\\hp\\projects\\peer_hive\\venv\\lib\\site-packages (from matplotlib) (4.58.5)\n",
      "Requirement already satisfied: kiwisolver>=1.3.1 in c:\\users\\hp\\projects\\peer_hive\\venv\\lib\\site-packages (from matplotlib) (1.4.8)\n",
      "Requirement already satisfied: numpy>=1.23 in c:\\users\\hp\\projects\\peer_hive\\venv\\lib\\site-packages (from matplotlib) (2.3.1)\n",
      "Requirement already satisfied: packaging>=20.0 in c:\\users\\hp\\projects\\peer_hive\\venv\\lib\\site-packages (from matplotlib) (25.0)\n",
      "Requirement already satisfied: pillow>=8 in c:\\users\\hp\\projects\\peer_hive\\venv\\lib\\site-packages (from matplotlib) (11.3.0)\n",
      "Requirement already satisfied: pyparsing>=2.3.1 in c:\\users\\hp\\projects\\peer_hive\\venv\\lib\\site-packages (from matplotlib) (3.2.3)\n",
      "Requirement already satisfied: python-dateutil>=2.7 in c:\\users\\hp\\projects\\peer_hive\\venv\\lib\\site-packages (from matplotlib) (2.9.0.post0)\n",
      "Requirement already satisfied: six>=1.5 in c:\\users\\hp\\projects\\peer_hive\\venv\\lib\\site-packages (from python-dateutil>=2.7->matplotlib) (1.17.0)\n",
      "Using cached matplotlib-3.10.3-cp311-cp311-win_amd64.whl (8.1 MB)\n",
      "Using cached contourpy-1.3.2-cp311-cp311-win_amd64.whl (222 kB)\n",
      "Installing collected packages: contourpy, matplotlib\n",
      "Successfully installed contourpy-1.3.2 matplotlib-3.10.3\n"
     ]
    },
    {
     "name": "stderr",
     "output_type": "stream",
     "text": [
      "\n",
      "[notice] A new release of pip is available: 23.2.1 -> 25.1.1\n",
      "[notice] To update, run: python.exe -m pip install --upgrade pip\n"
     ]
    }
   ],
   "source": [
    "!pip install matplotlib"
   ]
  },
  {
   "cell_type": "code",
   "execution_count": 5,
   "metadata": {
    "id": "774NPwhJIrO7"
   },
   "outputs": [],
   "source": [
    "import pandas as pd\n",
    "import matplotlib.pyplot as plt\n",
    "from transformers import pipeline"
   ]
  },
  {
   "cell_type": "markdown",
   "metadata": {
    "id": "K-Zw-ln0bCIB"
   },
   "source": [
    "## **2. Synthesized Dataset from GPT**"
   ]
  },
  {
   "cell_type": "code",
   "execution_count": 6,
   "metadata": {
    "id": "679nazhJHw3z"
   },
   "outputs": [],
   "source": [
    "# 50 sample mood logs (PeerHive vibes)\n",
    "data = [\n",
    "    {\"uid\": \"user001\", \"mood_text\": \"I'm feeling super anxious about exams.\"},\n",
    "    {\"uid\": \"user002\", \"mood_text\": \"Had a great time with friends today!\"},\n",
    "    {\"uid\": \"user003\", \"mood_text\": \"Nothing special, just an average day.\"},\n",
    "    {\"uid\": \"user004\", \"mood_text\": \"I’m exhausted. College is draining me.\"},\n",
    "    {\"uid\": \"user005\", \"mood_text\": \"Feeling really hopeful about my project.\"},\n",
    "    {\"uid\": \"user006\", \"mood_text\": \"My motivation is totally gone...\"},\n",
    "    {\"uid\": \"user007\", \"mood_text\": \"I'm proud of myself for finishing that task!\"},\n",
    "    {\"uid\": \"user008\", \"mood_text\": \"Why does everything feel pointless?\"},\n",
    "    {\"uid\": \"user009\", \"mood_text\": \"Super productive day, nailed every goal!\"},\n",
    "    {\"uid\": \"user010\", \"mood_text\": \"I'm crying but pretending it's fine.\"},\n",
    "    {\"uid\": \"user011\", \"mood_text\": \"Excited to start my new internship next week!\"},\n",
    "    {\"uid\": \"user012\", \"mood_text\": \"I feel like no one understands me.\"},\n",
    "    {\"uid\": \"user013\", \"mood_text\": \"Today’s weather makes me feel calm and peaceful.\"},\n",
    "    {\"uid\": \"user014\", \"mood_text\": \"Why am I so tired all the time?\"},\n",
    "    {\"uid\": \"user015\", \"mood_text\": \"I got rejected again. What’s the point?\"},\n",
    "    {\"uid\": \"user016\", \"mood_text\": \"Just vibing to some lo-fi beats while coding.\"},\n",
    "    {\"uid\": \"user017\", \"mood_text\": \"Had a breakdown but at least my room is clean now.\"},\n",
    "    {\"uid\": \"user018\", \"mood_text\": \"I feel overwhelmed with deadlines.\"},\n",
    "    {\"uid\": \"user019\", \"mood_text\": \"Finished all my tasks early. I feel amazing!\"},\n",
    "    {\"uid\": \"user020\", \"mood_text\": \"Another day of pretending I’m okay.\"},\n",
    "    {\"uid\": \"user021\", \"mood_text\": \"Met someone new today. It was fun!\"},\n",
    "    {\"uid\": \"user022\", \"mood_text\": \"Cried in the bathroom again.\"},\n",
    "    {\"uid\": \"user023\", \"mood_text\": \"I feel seen. Someone actually checked on me.\"},\n",
    "    {\"uid\": \"user024\", \"mood_text\": \"Skipped classes today. No regrets.\"},\n",
    "    {\"uid\": \"user025\", \"mood_text\": \"Why is everything so stressful lately?\"},\n",
    "    {\"uid\": \"user026\", \"mood_text\": \"Practiced mindfulness for 5 mins. Felt nice.\"},\n",
    "    {\"uid\": \"user027\", \"mood_text\": \"Honestly just numb at this point.\"},\n",
    "    {\"uid\": \"user028\", \"mood_text\": \"Smashed my goals today! Crushing it!\"},\n",
    "    {\"uid\": \"user029\", \"mood_text\": \"Nobody replied to my texts. Feel invisible.\"},\n",
    "    {\"uid\": \"user030\", \"mood_text\": \"Ate good food. Took a nap. 10/10 day.\"},\n",
    "    {\"uid\": \"user031\", \"mood_text\": \"I'm so behind on everything and panicking.\"},\n",
    "    {\"uid\": \"user032\", \"mood_text\": \"Late night walk helped me clear my mind.\"},\n",
    "    {\"uid\": \"user033\", \"mood_text\": \"Finally had the courage to speak in class.\"},\n",
    "    {\"uid\": \"user034\", \"mood_text\": \"I'm a failure. Nothing ever works out.\"},\n",
    "    {\"uid\": \"user035\", \"mood_text\": \"Studied all night. Exhausted but proud.\"},\n",
    "    {\"uid\": \"user036\", \"mood_text\": \"Felt really supported by my friends today.\"},\n",
    "    {\"uid\": \"user037\", \"mood_text\": \"Fought with my best friend. Feel awful.\"},\n",
    "    {\"uid\": \"user038\", \"mood_text\": \"Drank water, touched grass. Healing arc begins.\"},\n",
    "    {\"uid\": \"user039\", \"mood_text\": \"I don’t know what I’m doing with my life.\"},\n",
    "    {\"uid\": \"user040\", \"mood_text\": \"Laughing at memes got me through the day.\"},\n",
    "    {\"uid\": \"user041\", \"mood_text\": \"Woke up feeling peaceful for once.\"},\n",
    "    {\"uid\": \"user042\", \"mood_text\": \"Got ghosted again. Cool cool cool.\"},\n",
    "    {\"uid\": \"user043\", \"mood_text\": \"Just feeling really grateful today.\"},\n",
    "    {\"uid\": \"user044\", \"mood_text\": \"Burnout is hitting hard.\"},\n",
    "    {\"uid\": \"user045\", \"mood_text\": \"Sang my heart out in the shower. Therapeutic.\"},\n",
    "    {\"uid\": \"user046\", \"mood_text\": \"Back pain, brain fog, soul tired. The triple kill.\"},\n",
    "    {\"uid\": \"user047\", \"mood_text\": \"Had fun playing games with my roommate.\"},\n",
    "    {\"uid\": \"user048\", \"mood_text\": \"Panic attack in the library. Great.\"},\n",
    "    {\"uid\": \"user049\", \"mood_text\": \"Wrote in my journal. Helped a bit.\"},\n",
    "    {\"uid\": \"user050\", \"mood_text\": \"Felt like I actually belong here today.\"}\n",
    "]"
   ]
  },
  {
   "cell_type": "code",
   "execution_count": 7,
   "metadata": {
    "colab": {
     "base_uri": "https://localhost:8080/",
     "height": 206
    },
    "id": "pB0nLbybIvdG",
    "outputId": "105b66ae-19cb-4945-c67b-67a042a10ba9"
   },
   "outputs": [
    {
     "data": {
      "text/html": [
       "<div>\n",
       "<style scoped>\n",
       "    .dataframe tbody tr th:only-of-type {\n",
       "        vertical-align: middle;\n",
       "    }\n",
       "\n",
       "    .dataframe tbody tr th {\n",
       "        vertical-align: top;\n",
       "    }\n",
       "\n",
       "    .dataframe thead th {\n",
       "        text-align: right;\n",
       "    }\n",
       "</style>\n",
       "<table border=\"1\" class=\"dataframe\">\n",
       "  <thead>\n",
       "    <tr style=\"text-align: right;\">\n",
       "      <th></th>\n",
       "      <th>uid</th>\n",
       "      <th>mood_text</th>\n",
       "    </tr>\n",
       "  </thead>\n",
       "  <tbody>\n",
       "    <tr>\n",
       "      <th>0</th>\n",
       "      <td>user001</td>\n",
       "      <td>I'm feeling super anxious about exams.</td>\n",
       "    </tr>\n",
       "    <tr>\n",
       "      <th>1</th>\n",
       "      <td>user002</td>\n",
       "      <td>Had a great time with friends today!</td>\n",
       "    </tr>\n",
       "    <tr>\n",
       "      <th>2</th>\n",
       "      <td>user003</td>\n",
       "      <td>Nothing special, just an average day.</td>\n",
       "    </tr>\n",
       "    <tr>\n",
       "      <th>3</th>\n",
       "      <td>user004</td>\n",
       "      <td>I’m exhausted. College is draining me.</td>\n",
       "    </tr>\n",
       "    <tr>\n",
       "      <th>4</th>\n",
       "      <td>user005</td>\n",
       "      <td>Feeling really hopeful about my project.</td>\n",
       "    </tr>\n",
       "  </tbody>\n",
       "</table>\n",
       "</div>"
      ],
      "text/plain": [
       "       uid                                 mood_text\n",
       "0  user001    I'm feeling super anxious about exams.\n",
       "1  user002      Had a great time with friends today!\n",
       "2  user003     Nothing special, just an average day.\n",
       "3  user004    I’m exhausted. College is draining me.\n",
       "4  user005  Feeling really hopeful about my project."
      ]
     },
     "execution_count": 7,
     "metadata": {},
     "output_type": "execute_result"
    }
   ],
   "source": [
    "df = pd.DataFrame(data)\n",
    "df.to_csv(\"mood_logs.csv\", index=False)\n",
    "df.head()"
   ]
  },
  {
   "cell_type": "markdown",
   "metadata": {
    "id": "VYc4NbKIbbse"
   },
   "source": [
    "## **3. Creating the model Pipeline**"
   ]
  },
  {
   "cell_type": "code",
   "execution_count": 6,
   "metadata": {
    "colab": {
     "base_uri": "https://localhost:8080/"
    },
    "id": "oPEH14vDI-7A",
    "outputId": "6fb6c519-9cae-4961-9c40-2fc0b2aaf3c1"
   },
   "outputs": [
    {
     "name": "stderr",
     "output_type": "stream",
     "text": [
      "Device set to use cuda:0\n"
     ]
    }
   ],
   "source": [
    "sentiment_model = pipeline(\"sentiment-analysis\", model=\"nlptown/bert-base-multilingual-uncased-sentiment\")"
   ]
  },
  {
   "cell_type": "code",
   "execution_count": 19,
   "metadata": {
    "id": "__r_VkOLU5NC"
   },
   "outputs": [],
   "source": [
    "result=sentiment_model(df[\"mood_text\"][45])"
   ]
  },
  {
   "cell_type": "markdown",
   "metadata": {
    "id": "MoEXh_ACb3aF"
   },
   "source": [
    "### Convert the dataframe to a list and use looping to get all rows"
   ]
  },
  {
   "cell_type": "code",
   "execution_count": null,
   "metadata": {
    "id": "cT45eDkYVDwM"
   },
   "outputs": [],
   "source": [
    "results = sentiment_model(df[\"mood_text\"].tolist())\n",
    "label = [r[\"label\"] for r in results]\n",
    "score = [r[\"score\"] for r in results]\n",
    "df.head()"
   ]
  },
  {
   "cell_type": "markdown",
   "metadata": {
    "id": "Xz76srMEcX9L"
   },
   "source": [
    "### Append those new columns to the dataframe"
   ]
  },
  {
   "cell_type": "code",
   "execution_count": null,
   "metadata": {
    "id": "DplgoDTlcNpH"
   },
   "outputs": [],
   "source": [
    "df[\"sentiment_label\"] = label\n",
    "df[\"sentiment_score\"] = score"
   ]
  }
 ],
 "metadata": {
  "accelerator": "GPU",
  "colab": {
   "authorship_tag": "ABX9TyNx2nQtwjrkzdKKHLW/U2X5",
   "gpuType": "T4",
   "include_colab_link": true,
   "provenance": []
  },
  "kernelspec": {
   "display_name": "Python 3 (ipykernel)",
   "language": "python",
   "name": "python3"
  },
  "language_info": {
   "codemirror_mode": {
    "name": "ipython",
    "version": 3
   },
   "file_extension": ".py",
   "mimetype": "text/x-python",
   "name": "python",
   "nbconvert_exporter": "python",
   "pygments_lexer": "ipython3",
   "version": "3.11.7"
  }
 },
 "nbformat": 4,
 "nbformat_minor": 4
}
